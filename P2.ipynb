{
 "cells": [
  {
   "cell_type": "code",
   "execution_count": 295,
   "id": "initial_id",
   "metadata": {
    "collapsed": true,
    "ExecuteTime": {
     "end_time": "2024-04-18T12:26:22.151949Z",
     "start_time": "2024-04-18T12:26:22.077914Z"
    }
   },
   "outputs": [
    {
     "ename": "ImportError",
     "evalue": "cannot import name 'WD_ALIGN_PARAGRAPH' from 'docx.enum.table' (C:\\Users\\Charles Lee\\AppData\\Local\\Programs\\Python\\Python311\\Lib\\site-packages\\docx\\enum\\table.py)",
     "output_type": "error",
     "traceback": [
      "\u001B[1;31m---------------------------------------------------------------------------\u001B[0m",
      "\u001B[1;31mImportError\u001B[0m                               Traceback (most recent call last)",
      "Cell \u001B[1;32mIn[295], line 5\u001B[0m\n\u001B[0;32m      2\u001B[0m \u001B[38;5;28;01mfrom\u001B[39;00m \u001B[38;5;21;01mstatsmodels\u001B[39;00m\u001B[38;5;21;01m.\u001B[39;00m\u001B[38;5;21;01mapi\u001B[39;00m \u001B[38;5;28;01mimport\u001B[39;00m OLS, add_constant\n\u001B[0;32m      4\u001B[0m \u001B[38;5;28;01mfrom\u001B[39;00m \u001B[38;5;21;01mdocx\u001B[39;00m \u001B[38;5;28;01mimport\u001B[39;00m Document\n\u001B[1;32m----> 5\u001B[0m \u001B[38;5;28;01mfrom\u001B[39;00m \u001B[38;5;21;01mdocx\u001B[39;00m\u001B[38;5;21;01m.\u001B[39;00m\u001B[38;5;21;01menum\u001B[39;00m\u001B[38;5;21;01m.\u001B[39;00m\u001B[38;5;21;01mtable\u001B[39;00m \u001B[38;5;28;01mimport\u001B[39;00m WD_ALIGN_VERTICAL, WD_ALIGN_PARAGRAPH\n",
      "\u001B[1;31mImportError\u001B[0m: cannot import name 'WD_ALIGN_PARAGRAPH' from 'docx.enum.table' (C:\\Users\\Charles Lee\\AppData\\Local\\Programs\\Python\\Python311\\Lib\\site-packages\\docx\\enum\\table.py)"
     ]
    }
   ],
   "source": [
    "from pandas import *\n",
    "from statsmodels.api import OLS, add_constant\n",
    "\n",
    "from docx import Document\n",
    "from docx.enum.table import WD_ALIGN_VERTICAL, WD_ALIGN_PARAGRAPH\n"
   ]
  },
  {
   "cell_type": "markdown",
   "source": [
    "preprocess"
   ],
   "metadata": {
    "collapsed": false
   },
   "id": "ab31f80cad937a08"
  },
  {
   "cell_type": "code",
   "outputs": [],
   "source": [
    "data_2 = read_csv(\"C:/Users/Charles Lee/OneDrive - CUHK-Shenzhen/FIN3080_P3/data2.csv\")\n",
    "data_3 = read_csv(\"C:/Users/Charles Lee/OneDrive - CUHK-Shenzhen/FIN3080_P3/data3.csv\")\n",
    "data_risk_free = read_csv(\"C:/Users/Charles Lee/OneDrive - CUHK-Shenzhen/FIN3080_P3/datarisk_free.csv\")\n",
    "data_2 = data_2[(data_2['Market Type'] == 1) | (data_2['Market Type'] == 4) | (data_2['Market Type'] == 64)]\n",
    "data_3 = data_3[(data_3['Market Type'] == 1) | (data_3['Market Type'] == 4) | (data_3['Market Type'] == 64)]\n",
    "data_main = concat([data_2, data_3], axis=0,ignore_index=True)\n",
    "data_main = data_main[['code', 'date', 'return']]\n",
    "data_main['date'] = data_main['date'] + '-0'\n",
    "data_main['date'] = to_datetime(data_main['date'], format='%Y-%U-%w')\n",
    "data_risk_free['trading_date_yw'] = to_datetime(data_risk_free['trading_date_yw'])"
   ],
   "metadata": {
    "collapsed": false,
    "ExecuteTime": {
     "end_time": "2024-04-18T12:26:22.712413Z",
     "start_time": "2024-04-18T12:26:22.215150Z"
    }
   },
   "id": "b385edf6d17b2db7",
   "execution_count": 296
  },
  {
   "cell_type": "code",
   "outputs": [],
   "source": [
    "data_main.loc[data_main['date'].dt.year == 2018, 'date'] -= Timedelta(days=6)\n",
    "data_main.loc[data_main['date'].dt.year == 2019, 'date'] -= Timedelta(days=5)\n",
    "data_main.loc[data_main['date'].dt.year == 2020, 'date'] -= Timedelta(days=4)\n",
    "data_main.loc[data_main['date'].dt.year == 2021, 'date'] -= Timedelta(days=2)\n",
    "data_main.loc[data_main['date'].dt.year == 2022, 'date'] -= Timedelta(days=1)"
   ],
   "metadata": {
    "collapsed": false,
    "ExecuteTime": {
     "end_time": "2024-04-18T12:26:22.883221Z",
     "start_time": "2024-04-18T12:26:22.724976Z"
    }
   },
   "id": "e96d1c025ee67644",
   "execution_count": 297
  },
  {
   "cell_type": "code",
   "outputs": [],
   "source": [
    "market_return = data_main.groupby('date')['return'].mean().reset_index()\n",
    "market_return.columns = ['date', 'market_return']"
   ],
   "metadata": {
    "collapsed": false,
    "ExecuteTime": {
     "end_time": "2024-04-18T12:26:22.903685Z",
     "start_time": "2024-04-18T12:26:22.884389Z"
    }
   },
   "id": "c03ab826aa351ad3",
   "execution_count": 298
  },
  {
   "cell_type": "code",
   "outputs": [],
   "source": [
    "data_main = data_main.merge(market_return, on='date', how='left')\n",
    "data_main = data_main.merge(data_risk_free, left_on='date', right_on='trading_date_yw', how='left')"
   ],
   "metadata": {
    "collapsed": false,
    "ExecuteTime": {
     "end_time": "2024-04-18T12:26:23.026756Z",
     "start_time": "2024-04-18T12:26:22.904802Z"
    }
   },
   "id": "4bb2e5fbeaf6c277",
   "execution_count": 299
  },
  {
   "cell_type": "code",
   "outputs": [],
   "source": [
    "data_main.dropna(inplace=True)\n",
    "data_main = data_main[['code', 'date', 'return', 'market_return', 'risk_free_return']]\n",
    "data_main['ri_rf'] = data_main['return'] - data_main['risk_free_return']\n",
    "data_main['rm_rf'] = data_main['market_return'] - data_main['risk_free_return']"
   ],
   "metadata": {
    "collapsed": false,
    "ExecuteTime": {
     "end_time": "2024-04-18T12:26:23.086963Z",
     "start_time": "2024-04-18T12:26:23.027759Z"
    }
   },
   "id": "b1381fb35d70960e",
   "execution_count": 300
  },
  {
   "cell_type": "code",
   "outputs": [],
   "source": [
    "data_main = data_main[['code', 'date', 'return', 'ri_rf', 'rm_rf','risk_free_return']]"
   ],
   "metadata": {
    "collapsed": false,
    "ExecuteTime": {
     "end_time": "2024-04-18T12:26:23.107147Z",
     "start_time": "2024-04-18T12:26:23.087611Z"
    }
   },
   "id": "ac194d820e9ffa12",
   "execution_count": 301
  },
  {
   "cell_type": "code",
   "outputs": [],
   "source": [
    "data_p1 = data_main[data_main['date'] <= '2018-12-31']\n",
    "data_p2 = data_main[(data_main['date'] >= '2019-01-01') & (data_main['date'] <= '2020-12-31')]\n",
    "data_p3 = data_main[data_main['date'] >= '2021-01-01']"
   ],
   "metadata": {
    "collapsed": false,
    "ExecuteTime": {
     "end_time": "2024-04-18T12:26:23.154398Z",
     "start_time": "2024-04-18T12:26:23.108292Z"
    }
   },
   "id": "e97ef77da9c3c2f2",
   "execution_count": 302
  },
  {
   "cell_type": "markdown",
   "source": [
    "p1"
   ],
   "metadata": {
    "collapsed": false
   },
   "id": "82f40c3233e698ab"
  },
  {
   "cell_type": "code",
   "outputs": [],
   "source": [
    "beta = {}\n",
    "for code in data_p1.groupby('code').groups.keys():\n",
    "    data = data_p1[data_p1['code'] == code]\n",
    "    model = OLS(data['ri_rf'], add_constant(data['rm_rf']))\n",
    "    results = model.fit()\n",
    "    beta[code] = results.params['rm_rf']"
   ],
   "metadata": {
    "collapsed": false,
    "ExecuteTime": {
     "end_time": "2024-04-18T12:26:27.281037Z",
     "start_time": "2024-04-18T12:26:23.154398Z"
    }
   },
   "id": "a1290287684bd110",
   "execution_count": 303
  },
  {
   "cell_type": "code",
   "outputs": [
    {
     "data": {
      "text/plain": "        code      beta\n0          1  0.330210\n1          2  0.626524\n2          4  0.581006\n3          5  1.015351\n4          6  1.179834\n...      ...       ...\n2827  603993  1.275410\n2828  603996  1.137413\n2829  603997  0.897913\n2830  603998  1.219376\n2831  603999  1.362307\n\n[2832 rows x 2 columns]",
      "text/html": "<div>\n<style scoped>\n    .dataframe tbody tr th:only-of-type {\n        vertical-align: middle;\n    }\n\n    .dataframe tbody tr th {\n        vertical-align: top;\n    }\n\n    .dataframe thead th {\n        text-align: right;\n    }\n</style>\n<table border=\"1\" class=\"dataframe\">\n  <thead>\n    <tr style=\"text-align: right;\">\n      <th></th>\n      <th>code</th>\n      <th>beta</th>\n    </tr>\n  </thead>\n  <tbody>\n    <tr>\n      <th>0</th>\n      <td>1</td>\n      <td>0.330210</td>\n    </tr>\n    <tr>\n      <th>1</th>\n      <td>2</td>\n      <td>0.626524</td>\n    </tr>\n    <tr>\n      <th>2</th>\n      <td>4</td>\n      <td>0.581006</td>\n    </tr>\n    <tr>\n      <th>3</th>\n      <td>5</td>\n      <td>1.015351</td>\n    </tr>\n    <tr>\n      <th>4</th>\n      <td>6</td>\n      <td>1.179834</td>\n    </tr>\n    <tr>\n      <th>...</th>\n      <td>...</td>\n      <td>...</td>\n    </tr>\n    <tr>\n      <th>2827</th>\n      <td>603993</td>\n      <td>1.275410</td>\n    </tr>\n    <tr>\n      <th>2828</th>\n      <td>603996</td>\n      <td>1.137413</td>\n    </tr>\n    <tr>\n      <th>2829</th>\n      <td>603997</td>\n      <td>0.897913</td>\n    </tr>\n    <tr>\n      <th>2830</th>\n      <td>603998</td>\n      <td>1.219376</td>\n    </tr>\n    <tr>\n      <th>2831</th>\n      <td>603999</td>\n      <td>1.362307</td>\n    </tr>\n  </tbody>\n</table>\n<p>2832 rows × 2 columns</p>\n</div>"
     },
     "execution_count": 304,
     "metadata": {},
     "output_type": "execute_result"
    }
   ],
   "source": [
    "beta = DataFrame(beta.items(), columns=['code', 'beta'])\n",
    "beta"
   ],
   "metadata": {
    "collapsed": false,
    "ExecuteTime": {
     "end_time": "2024-04-18T12:26:27.295337Z",
     "start_time": "2024-04-18T12:26:27.282137Z"
    }
   },
   "id": "63bebaa675ec8825",
   "execution_count": 304
  },
  {
   "cell_type": "markdown",
   "source": [
    "p2"
   ],
   "metadata": {
    "collapsed": false
   },
   "id": "be445f2f5019b01d"
  },
  {
   "cell_type": "code",
   "outputs": [],
   "source": [
    "data_p2 = data_p2.merge(beta, on='code', how='left')\n",
    "data_p2.dropna(inplace=True)"
   ],
   "metadata": {
    "collapsed": false,
    "ExecuteTime": {
     "end_time": "2024-04-18T12:26:27.336788Z",
     "start_time": "2024-04-18T12:26:27.298954Z"
    }
   },
   "id": "c57234d17bab82a9",
   "execution_count": 305
  },
  {
   "cell_type": "code",
   "outputs": [],
   "source": [
    "data_p2['decile'] = qcut(data_p2['beta'], 10, labels=[1,2,3,4,5,6,7,8,9,10])"
   ],
   "metadata": {
    "collapsed": false,
    "ExecuteTime": {
     "end_time": "2024-04-18T12:26:27.352634Z",
     "start_time": "2024-04-18T12:26:27.337810Z"
    }
   },
   "id": "aa9b75f2d0fa85d4",
   "execution_count": 306
  },
  {
   "cell_type": "code",
   "outputs": [],
   "source": [
    "data_p2_result = DataFrame()\n",
    "for i in range(1,11):\n",
    "    data_decile = data_p2[data_p2['decile'] == i]\n",
    "    grouped_data = data_decile.groupby('date')['return'].mean().reset_index()\n",
    "    grouped_data.columns = ['date', 'portfolio return']\n",
    "    grouped_data['decile'] = i\n",
    "    data_p2_result = concat([data_p2_result, grouped_data], axis=0, ignore_index=True)\n",
    "data_p2_partial = data_p2[['date', 'risk_free_return', 'rm_rf']].drop_duplicates(subset=['date'])\n",
    "data_p2_result = data_p2_result.merge(data_p2_partial, on='date', how='left')\n",
    "data_p2_result = data_p2_result[['decile', 'date', 'portfolio return', 'risk_free_return', 'rm_rf']]"
   ],
   "metadata": {
    "collapsed": false,
    "ExecuteTime": {
     "end_time": "2024-04-18T12:26:27.403554Z",
     "start_time": "2024-04-18T12:26:27.353637Z"
    }
   },
   "id": "408a59137d2b20fe",
   "execution_count": 307
  },
  {
   "cell_type": "code",
   "outputs": [
    {
     "data": {
      "text/plain": "      decile       date  portfolio return  risk_free_return     rm_rf  \\\n0          1 2019-01-01         -0.004267          0.000495  0.016791   \n1          1 2019-01-08          0.016326          0.000500  0.029782   \n2          1 2019-01-15          0.006844          0.000498  0.001606   \n3          1 2019-01-22         -0.007350          0.000493 -0.005897   \n4          1 2019-01-29         -0.014185          0.000484 -0.032571   \n...      ...        ...               ...               ...       ...   \n1015      10 2020-11-25         -0.013646          0.000585 -0.008693   \n1016      10 2020-12-02          0.016438          0.000584  0.013317   \n1017      10 2020-12-09         -0.045060          0.000573 -0.038665   \n1018      10 2020-12-16         -0.006833          0.000549  0.002807   \n1019      10 2020-12-23         -0.015926          0.000509 -0.011496   \n\n         rp_rf  \n0    -0.004762  \n1     0.015826  \n2     0.006346  \n3    -0.007843  \n4    -0.014669  \n...        ...  \n1015 -0.014231  \n1016  0.015854  \n1017 -0.045633  \n1018 -0.007382  \n1019 -0.016435  \n\n[1020 rows x 6 columns]",
      "text/html": "<div>\n<style scoped>\n    .dataframe tbody tr th:only-of-type {\n        vertical-align: middle;\n    }\n\n    .dataframe tbody tr th {\n        vertical-align: top;\n    }\n\n    .dataframe thead th {\n        text-align: right;\n    }\n</style>\n<table border=\"1\" class=\"dataframe\">\n  <thead>\n    <tr style=\"text-align: right;\">\n      <th></th>\n      <th>decile</th>\n      <th>date</th>\n      <th>portfolio return</th>\n      <th>risk_free_return</th>\n      <th>rm_rf</th>\n      <th>rp_rf</th>\n    </tr>\n  </thead>\n  <tbody>\n    <tr>\n      <th>0</th>\n      <td>1</td>\n      <td>2019-01-01</td>\n      <td>-0.004267</td>\n      <td>0.000495</td>\n      <td>0.016791</td>\n      <td>-0.004762</td>\n    </tr>\n    <tr>\n      <th>1</th>\n      <td>1</td>\n      <td>2019-01-08</td>\n      <td>0.016326</td>\n      <td>0.000500</td>\n      <td>0.029782</td>\n      <td>0.015826</td>\n    </tr>\n    <tr>\n      <th>2</th>\n      <td>1</td>\n      <td>2019-01-15</td>\n      <td>0.006844</td>\n      <td>0.000498</td>\n      <td>0.001606</td>\n      <td>0.006346</td>\n    </tr>\n    <tr>\n      <th>3</th>\n      <td>1</td>\n      <td>2019-01-22</td>\n      <td>-0.007350</td>\n      <td>0.000493</td>\n      <td>-0.005897</td>\n      <td>-0.007843</td>\n    </tr>\n    <tr>\n      <th>4</th>\n      <td>1</td>\n      <td>2019-01-29</td>\n      <td>-0.014185</td>\n      <td>0.000484</td>\n      <td>-0.032571</td>\n      <td>-0.014669</td>\n    </tr>\n    <tr>\n      <th>...</th>\n      <td>...</td>\n      <td>...</td>\n      <td>...</td>\n      <td>...</td>\n      <td>...</td>\n      <td>...</td>\n    </tr>\n    <tr>\n      <th>1015</th>\n      <td>10</td>\n      <td>2020-11-25</td>\n      <td>-0.013646</td>\n      <td>0.000585</td>\n      <td>-0.008693</td>\n      <td>-0.014231</td>\n    </tr>\n    <tr>\n      <th>1016</th>\n      <td>10</td>\n      <td>2020-12-02</td>\n      <td>0.016438</td>\n      <td>0.000584</td>\n      <td>0.013317</td>\n      <td>0.015854</td>\n    </tr>\n    <tr>\n      <th>1017</th>\n      <td>10</td>\n      <td>2020-12-09</td>\n      <td>-0.045060</td>\n      <td>0.000573</td>\n      <td>-0.038665</td>\n      <td>-0.045633</td>\n    </tr>\n    <tr>\n      <th>1018</th>\n      <td>10</td>\n      <td>2020-12-16</td>\n      <td>-0.006833</td>\n      <td>0.000549</td>\n      <td>0.002807</td>\n      <td>-0.007382</td>\n    </tr>\n    <tr>\n      <th>1019</th>\n      <td>10</td>\n      <td>2020-12-23</td>\n      <td>-0.015926</td>\n      <td>0.000509</td>\n      <td>-0.011496</td>\n      <td>-0.016435</td>\n    </tr>\n  </tbody>\n</table>\n<p>1020 rows × 6 columns</p>\n</div>"
     },
     "execution_count": 308,
     "metadata": {},
     "output_type": "execute_result"
    }
   ],
   "source": [
    "data_p2_result['rp_rf'] = data_p2_result['portfolio return'] - data_p2_result['risk_free_return']\n",
    "data_p2_result"
   ],
   "metadata": {
    "collapsed": false,
    "ExecuteTime": {
     "end_time": "2024-04-18T12:26:27.414745Z",
     "start_time": "2024-04-18T12:26:27.404774Z"
    }
   },
   "id": "74e6cddfb82a9b62",
   "execution_count": 308
  },
  {
   "cell_type": "code",
   "outputs": [],
   "source": [
    "beta2 = {}\n",
    "alpha = {}\n",
    "alpha_t = {}\n",
    "alpha_significance = {}\n",
    "beta_t = {}\n",
    "beta_significance = {}\n",
    "r_squared = {}\n",
    "\n",
    "# Iterate through each decile\n",
    "for decile in data_p2_result.groupby('decile').groups.keys():\n",
    "    data = data_p2_result[data_p2_result['decile'] == decile]\n",
    "    model = OLS(data['rp_rf'], add_constant(data['rm_rf']))\n",
    "    results = model.fit()\n",
    "    \n",
    "    beta2[decile] = results.params['rm_rf']\n",
    "    alpha[decile] = results.params['const']\n",
    "    alpha_t[decile] = results.tvalues['const']\n",
    "    alpha_significance[decile] = results.pvalues['const']\n",
    "    beta_t[decile] = results.tvalues['rm_rf']\n",
    "    beta_significance[decile] = results.pvalues['rm_rf']\n",
    "    r_squared[decile] = results.rsquared\n",
    "\n",
    "beta2 = DataFrame(beta2.items(), columns=['decile', 'beta_p'])\n",
    "alpha = DataFrame(alpha.items(), columns=['decile', 'alpha'])\n",
    "alpha_t = DataFrame(alpha_t.items(), columns=['decile', 'alpha_t'])\n",
    "alpha_significance = DataFrame(alpha_significance.items(), columns=['decile', 'alpha_significance'])\n",
    "beta_t = DataFrame(beta_t.items(), columns=['decile', 'beta_t'])\n",
    "beta_significance = DataFrame(beta_significance.items(), columns=['decile', 'beta_significance'])\n",
    "r_squared = DataFrame(r_squared.items(), columns=['decile', 'R_squared'])\n",
    "\n",
    "table = merge(alpha, alpha_t, on='decile')\n",
    "table = merge(table, alpha_significance, on='decile')\n",
    "table = merge(table, beta2, on='decile')\n",
    "table = merge(table, beta_t, on='decile')\n",
    "table = merge(table, beta_significance, on='decile')\n",
    "table = merge(table, r_squared, on='decile')\n",
    "\n",
    "table.to_excel(\"C:/Users/Charles Lee/OneDrive - CUHK-Shenzhen/FIN3080_P3/table.xlsx\")\n"
   ],
   "metadata": {
    "collapsed": false,
    "ExecuteTime": {
     "end_time": "2024-04-18T12:26:27.463689Z",
     "start_time": "2024-04-18T12:26:27.416002Z"
    }
   },
   "id": "69e47a9956a70fee",
   "execution_count": 309
  },
  {
   "cell_type": "markdown",
   "source": [
    "p3"
   ],
   "metadata": {
    "collapsed": false
   },
   "id": "dd5cc9d754cfebe1"
  },
  {
   "cell_type": "code",
   "outputs": [
    {
     "data": {
      "text/plain": "          code       date    return     ri_rf     rm_rf  risk_free_return\n205          1 2021-01-01  0.072062  0.071577  0.004905          0.000485\n206          1 2021-01-08  0.026370  0.025888 -0.020070          0.000482\n207          1 2021-01-15  0.057935  0.057431 -0.014085          0.000504\n208          1 2021-01-22  0.049048  0.048494  0.017571          0.000554\n209          1 2021-01-29  0.048116  0.047558 -0.043548          0.000558\n...        ...        ...       ...       ...       ...               ...\n889065  873527 2022-11-26 -0.016269 -0.016713 -0.010337          0.000444\n889066  873527 2022-12-03 -0.005513 -0.005984  0.027869          0.000471\n889067  873527 2022-12-10 -0.024390 -0.024867  0.003103          0.000477\n889068  873527 2022-12-17 -0.019318 -0.019777 -0.014859          0.000459\n889069  873527 2022-12-24 -0.067207 -0.067639 -0.048436          0.000432\n\n[325052 rows x 6 columns]",
      "text/html": "<div>\n<style scoped>\n    .dataframe tbody tr th:only-of-type {\n        vertical-align: middle;\n    }\n\n    .dataframe tbody tr th {\n        vertical-align: top;\n    }\n\n    .dataframe thead th {\n        text-align: right;\n    }\n</style>\n<table border=\"1\" class=\"dataframe\">\n  <thead>\n    <tr style=\"text-align: right;\">\n      <th></th>\n      <th>code</th>\n      <th>date</th>\n      <th>return</th>\n      <th>ri_rf</th>\n      <th>rm_rf</th>\n      <th>risk_free_return</th>\n    </tr>\n  </thead>\n  <tbody>\n    <tr>\n      <th>205</th>\n      <td>1</td>\n      <td>2021-01-01</td>\n      <td>0.072062</td>\n      <td>0.071577</td>\n      <td>0.004905</td>\n      <td>0.000485</td>\n    </tr>\n    <tr>\n      <th>206</th>\n      <td>1</td>\n      <td>2021-01-08</td>\n      <td>0.026370</td>\n      <td>0.025888</td>\n      <td>-0.020070</td>\n      <td>0.000482</td>\n    </tr>\n    <tr>\n      <th>207</th>\n      <td>1</td>\n      <td>2021-01-15</td>\n      <td>0.057935</td>\n      <td>0.057431</td>\n      <td>-0.014085</td>\n      <td>0.000504</td>\n    </tr>\n    <tr>\n      <th>208</th>\n      <td>1</td>\n      <td>2021-01-22</td>\n      <td>0.049048</td>\n      <td>0.048494</td>\n      <td>0.017571</td>\n      <td>0.000554</td>\n    </tr>\n    <tr>\n      <th>209</th>\n      <td>1</td>\n      <td>2021-01-29</td>\n      <td>0.048116</td>\n      <td>0.047558</td>\n      <td>-0.043548</td>\n      <td>0.000558</td>\n    </tr>\n    <tr>\n      <th>...</th>\n      <td>...</td>\n      <td>...</td>\n      <td>...</td>\n      <td>...</td>\n      <td>...</td>\n      <td>...</td>\n    </tr>\n    <tr>\n      <th>889065</th>\n      <td>873527</td>\n      <td>2022-11-26</td>\n      <td>-0.016269</td>\n      <td>-0.016713</td>\n      <td>-0.010337</td>\n      <td>0.000444</td>\n    </tr>\n    <tr>\n      <th>889066</th>\n      <td>873527</td>\n      <td>2022-12-03</td>\n      <td>-0.005513</td>\n      <td>-0.005984</td>\n      <td>0.027869</td>\n      <td>0.000471</td>\n    </tr>\n    <tr>\n      <th>889067</th>\n      <td>873527</td>\n      <td>2022-12-10</td>\n      <td>-0.024390</td>\n      <td>-0.024867</td>\n      <td>0.003103</td>\n      <td>0.000477</td>\n    </tr>\n    <tr>\n      <th>889068</th>\n      <td>873527</td>\n      <td>2022-12-17</td>\n      <td>-0.019318</td>\n      <td>-0.019777</td>\n      <td>-0.014859</td>\n      <td>0.000459</td>\n    </tr>\n    <tr>\n      <th>889069</th>\n      <td>873527</td>\n      <td>2022-12-24</td>\n      <td>-0.067207</td>\n      <td>-0.067639</td>\n      <td>-0.048436</td>\n      <td>0.000432</td>\n    </tr>\n  </tbody>\n</table>\n<p>325052 rows × 6 columns</p>\n</div>"
     },
     "execution_count": 310,
     "metadata": {},
     "output_type": "execute_result"
    }
   ],
   "source": [
    "data_p3"
   ],
   "metadata": {
    "collapsed": false,
    "ExecuteTime": {
     "end_time": "2024-04-18T12:26:27.474867Z",
     "start_time": "2024-04-18T12:26:27.465267Z"
    }
   },
   "id": "ec7253c1422ab192",
   "execution_count": 310
  },
  {
   "cell_type": "code",
   "outputs": [],
   "source": [
    "data_p3 = data_p3.merge(beta, on='code', how='left')\n",
    "data_p3.dropna(inplace=True)\n",
    "data_p3['decile'] = qcut(data_p3['beta'], 10, labels=[1,2,3,4,5,6,7,8,9,10])\n",
    "data_p3_result = DataFrame({'decile':[], 'portfolio return':[], 'rp_rf':[]})\n",
    "for i in range(1,11):\n",
    "    data_decile = data_p3[data_p3['decile'] == i]\n",
    "    data_p3_result.loc[len(data_p3_result)] = {\n",
    "        'portfolio return': data_decile['return'].mean(),\n",
    "        'rp_rf': data_decile['ri_rf'].mean(),\n",
    "        'decile': i\n",
    "    }"
   ],
   "metadata": {
    "collapsed": false,
    "ExecuteTime": {
     "end_time": "2024-04-18T12:26:27.555047Z",
     "start_time": "2024-04-18T12:26:27.475415Z"
    }
   },
   "id": "1ca816910807e023",
   "execution_count": 311
  },
  {
   "cell_type": "code",
   "outputs": [
    {
     "data": {
      "text/plain": "   decile     rp_rf\n0       1  0.001210\n1       2  0.001663\n2       3  0.001244\n3       4  0.001413\n4       5  0.002132\n5       6  0.001666\n6       7  0.002379\n7       8  0.001631\n8       9  0.002309\n9      10  0.002397",
      "text/html": "<div>\n<style scoped>\n    .dataframe tbody tr th:only-of-type {\n        vertical-align: middle;\n    }\n\n    .dataframe tbody tr th {\n        vertical-align: top;\n    }\n\n    .dataframe thead th {\n        text-align: right;\n    }\n</style>\n<table border=\"1\" class=\"dataframe\">\n  <thead>\n    <tr style=\"text-align: right;\">\n      <th></th>\n      <th>decile</th>\n      <th>rp_rf</th>\n    </tr>\n  </thead>\n  <tbody>\n    <tr>\n      <th>0</th>\n      <td>1</td>\n      <td>0.001210</td>\n    </tr>\n    <tr>\n      <th>1</th>\n      <td>2</td>\n      <td>0.001663</td>\n    </tr>\n    <tr>\n      <th>2</th>\n      <td>3</td>\n      <td>0.001244</td>\n    </tr>\n    <tr>\n      <th>3</th>\n      <td>4</td>\n      <td>0.001413</td>\n    </tr>\n    <tr>\n      <th>4</th>\n      <td>5</td>\n      <td>0.002132</td>\n    </tr>\n    <tr>\n      <th>5</th>\n      <td>6</td>\n      <td>0.001666</td>\n    </tr>\n    <tr>\n      <th>6</th>\n      <td>7</td>\n      <td>0.002379</td>\n    </tr>\n    <tr>\n      <th>7</th>\n      <td>8</td>\n      <td>0.001631</td>\n    </tr>\n    <tr>\n      <th>8</th>\n      <td>9</td>\n      <td>0.002309</td>\n    </tr>\n    <tr>\n      <th>9</th>\n      <td>10</td>\n      <td>0.002397</td>\n    </tr>\n  </tbody>\n</table>\n</div>"
     },
     "execution_count": 312,
     "metadata": {},
     "output_type": "execute_result"
    }
   ],
   "source": [
    "data_p3_result = data_p3_result[['decile', 'rp_rf']]\n",
    "data_p3_result"
   ],
   "metadata": {
    "collapsed": false,
    "ExecuteTime": {
     "end_time": "2024-04-18T12:26:27.563006Z",
     "start_time": "2024-04-18T12:26:27.556098Z"
    }
   },
   "id": "62bf4562a4d984b4",
   "execution_count": 312
  },
  {
   "cell_type": "code",
   "outputs": [
    {
     "data": {
      "text/plain": "   decile     rp_rf    beta_p\n0       1  0.001210  0.799998\n1       2  0.001663  0.881876\n2       3  0.001244  0.896626\n3       4  0.001413  0.947006\n4       5  0.002132  1.001360\n5       6  0.001666  1.047664\n6       7  0.002379  1.038506\n7       8  0.001631  1.104073\n8       9  0.002309  1.085995\n9      10  0.002397  1.149520",
      "text/html": "<div>\n<style scoped>\n    .dataframe tbody tr th:only-of-type {\n        vertical-align: middle;\n    }\n\n    .dataframe tbody tr th {\n        vertical-align: top;\n    }\n\n    .dataframe thead th {\n        text-align: right;\n    }\n</style>\n<table border=\"1\" class=\"dataframe\">\n  <thead>\n    <tr style=\"text-align: right;\">\n      <th></th>\n      <th>decile</th>\n      <th>rp_rf</th>\n      <th>beta_p</th>\n    </tr>\n  </thead>\n  <tbody>\n    <tr>\n      <th>0</th>\n      <td>1</td>\n      <td>0.001210</td>\n      <td>0.799998</td>\n    </tr>\n    <tr>\n      <th>1</th>\n      <td>2</td>\n      <td>0.001663</td>\n      <td>0.881876</td>\n    </tr>\n    <tr>\n      <th>2</th>\n      <td>3</td>\n      <td>0.001244</td>\n      <td>0.896626</td>\n    </tr>\n    <tr>\n      <th>3</th>\n      <td>4</td>\n      <td>0.001413</td>\n      <td>0.947006</td>\n    </tr>\n    <tr>\n      <th>4</th>\n      <td>5</td>\n      <td>0.002132</td>\n      <td>1.001360</td>\n    </tr>\n    <tr>\n      <th>5</th>\n      <td>6</td>\n      <td>0.001666</td>\n      <td>1.047664</td>\n    </tr>\n    <tr>\n      <th>6</th>\n      <td>7</td>\n      <td>0.002379</td>\n      <td>1.038506</td>\n    </tr>\n    <tr>\n      <th>7</th>\n      <td>8</td>\n      <td>0.001631</td>\n      <td>1.104073</td>\n    </tr>\n    <tr>\n      <th>8</th>\n      <td>9</td>\n      <td>0.002309</td>\n      <td>1.085995</td>\n    </tr>\n    <tr>\n      <th>9</th>\n      <td>10</td>\n      <td>0.002397</td>\n      <td>1.149520</td>\n    </tr>\n  </tbody>\n</table>\n</div>"
     },
     "execution_count": 313,
     "metadata": {},
     "output_type": "execute_result"
    }
   ],
   "source": [
    "data_p3_result = data_p3_result.merge(beta2, on='decile', how='left')\n",
    "data_p3_result"
   ],
   "metadata": {
    "collapsed": false,
    "ExecuteTime": {
     "end_time": "2024-04-18T12:26:27.571965Z",
     "start_time": "2024-04-18T12:26:27.564050Z"
    }
   },
   "id": "7eeb32b652ec1a2e",
   "execution_count": 313
  },
  {
   "cell_type": "code",
   "outputs": [
    {
     "name": "stdout",
     "output_type": "stream",
     "text": [
      "                            OLS Regression Results                            \n",
      "==============================================================================\n",
      "Dep. Variable:                  rp_rf   R-squared:                       0.549\n",
      "Model:                            OLS   Adj. R-squared:                  0.493\n",
      "Method:                 Least Squares   F-statistic:                     9.757\n",
      "Date:                Thu, 18 Apr 2024   Prob (F-statistic):             0.0141\n",
      "Time:                        20:26:27   Log-Likelihood:                 67.091\n",
      "No. Observations:                  10   AIC:                            -130.2\n",
      "Df Residuals:                       8   BIC:                            -129.6\n",
      "Df Model:                           1                                         \n",
      "Covariance Type:            nonrobust                                         \n",
      "==============================================================================\n",
      "                 coef    std err          t      P>|t|      [0.025      0.975]\n",
      "------------------------------------------------------------------------------\n",
      "const         -0.0013      0.001     -1.281      0.236      -0.004       0.001\n",
      "beta_p         0.0031      0.001      3.124      0.014       0.001       0.005\n",
      "==============================================================================\n",
      "Omnibus:                        1.122   Durbin-Watson:                   3.367\n",
      "Prob(Omnibus):                  0.571   Jarque-Bera (JB):                0.697\n",
      "Skew:                          -0.205   Prob(JB):                        0.706\n",
      "Kurtosis:                       1.773   Cond. No.                         18.9\n",
      "==============================================================================\n",
      "\n",
      "Notes:\n",
      "[1] Standard Errors assume that the covariance matrix of the errors is correctly specified.\n"
     ]
    },
    {
     "name": "stderr",
     "output_type": "stream",
     "text": [
      "C:\\Users\\Charles Lee\\AppData\\Local\\Programs\\Python\\Python311\\Lib\\site-packages\\scipy\\stats\\_stats_py.py:1806: UserWarning: kurtosistest only valid for n>=20 ... continuing anyway, n=10\n",
      "  warnings.warn(\"kurtosistest only valid for n>=20 ... continuing \"\n"
     ]
    }
   ],
   "source": [
    "models = OLS(data_p3_result['rp_rf'], add_constant(data_p3_result['beta_p']))\n",
    "results = models.fit()\n",
    "print(results.summary())"
   ],
   "metadata": {
    "collapsed": false,
    "ExecuteTime": {
     "end_time": "2024-04-18T12:26:27.588170Z",
     "start_time": "2024-04-18T12:26:27.573163Z"
    }
   },
   "id": "75ffd92642f61bef",
   "execution_count": 314
  },
  {
   "cell_type": "code",
   "outputs": [],
   "source": [],
   "metadata": {
    "collapsed": false,
    "ExecuteTime": {
     "end_time": "2024-04-18T12:26:27.592149Z",
     "start_time": "2024-04-18T12:26:27.589436Z"
    }
   },
   "id": "85a5c3f833597b8a",
   "execution_count": 314
  }
 ],
 "metadata": {
  "kernelspec": {
   "display_name": "Python 3",
   "language": "python",
   "name": "python3"
  },
  "language_info": {
   "codemirror_mode": {
    "name": "ipython",
    "version": 2
   },
   "file_extension": ".py",
   "mimetype": "text/x-python",
   "name": "python",
   "nbconvert_exporter": "python",
   "pygments_lexer": "ipython2",
   "version": "2.7.6"
  }
 },
 "nbformat": 4,
 "nbformat_minor": 5
}
